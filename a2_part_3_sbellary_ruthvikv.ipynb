{
 "cells": [
  {
   "cell_type": "markdown",
   "metadata": {},
   "source": [
    "# Part III: Build Transformer with PyTorch [25 points]\n",
    "Implement a Transformer model from scratch using the PyTorch framework. Train the model on a provided dataset, exploring various optimization techniques and hyperparameter tuning to achieve optimal performance.\n",
    "Every component of the Transformer as defined in the paper is expected to be implemented.\n",
    "The final model should achieve a test accuracy of greater than 80%."
   ]
  },
  {
   "cell_type": "code",
   "execution_count": 3,
   "metadata": {},
   "outputs": [
    {
     "name": "stdout",
     "output_type": "stream",
     "text": [
      "CUDA available: True\n"
     ]
    }
   ],
   "source": [
    "import torch\n",
    "print(\"CUDA available:\", torch.cuda.is_available())"
   ]
  },
  {
   "cell_type": "markdown",
   "metadata": {},
   "source": [
    "## Step 1: Data Exploration and Preprocessing"
   ]
  },
  {
   "cell_type": "markdown",
   "metadata": {},
   "source": [
    "1. Select one dataset from the list above."
   ]
  },
  {
   "cell_type": "markdown",
   "metadata": {},
   "source": [
    "### **Dataset Chosen:**  `ag_news_csv`"
   ]
  },
  {
   "cell_type": "markdown",
   "metadata": {},
   "source": [
    "2. Data exploration:\n",
    "   - Read, preprocess, and print the main statistics about the dataset.\n",
    "   - Use libraries like matplotlib, seaborn, or plotly to create at least 3 informative visualizations that reveal insights about the data and potential anomalies (e.g., polarity distribution, word count distribution, vocabulary size etc)."
   ]
  },
  {
   "cell_type": "code",
   "execution_count": 61,
   "metadata": {},
   "outputs": [],
   "source": [
    "#Import necessary libraries\n",
    "\n",
    "import pandas as pd\n",
    "import re\n",
    "import pandas as pd\n",
    "import numpy as np\n",
    "import matplotlib.pyplot as plt\n",
    "from textblob import TextBlob\n",
    "import nltk\n",
    "from nltk.corpus import stopwords\n",
    "from nltk.tokenize import word_tokenize\n",
    "from gensim.models import Word2Vec\n",
    "import torch\n",
    "import torch.nn as nn\n",
    "import torch.nn.functional as F\n",
    "from torch.utils.data import DataLoader, Dataset, random_split\n",
    "from torchinfo import summary\n",
    "from sklearn.model_selection import train_test_split\n",
    "from sklearn.metrics import precision_recall_fscore_support, roc_curve, auc\n",
    "from sklearn.preprocessing import label_binarize\n",
    "%matplotlib inline"
   ]
  },
  {
   "cell_type": "code",
   "execution_count": 2,
   "metadata": {},
   "outputs": [],
   "source": [
    "#Run if you don't have it in local\n",
    "#nltk.download('stopwords')\n",
    "#nltk.download('punkt_tab')"
   ]
  },
  {
   "cell_type": "code",
   "execution_count": 3,
   "metadata": {},
   "outputs": [
    {
     "data": {
      "text/html": [
       "<div>\n",
       "<style scoped>\n",
       "    .dataframe tbody tr th:only-of-type {\n",
       "        vertical-align: middle;\n",
       "    }\n",
       "\n",
       "    .dataframe tbody tr th {\n",
       "        vertical-align: top;\n",
       "    }\n",
       "\n",
       "    .dataframe thead th {\n",
       "        text-align: right;\n",
       "    }\n",
       "</style>\n",
       "<table border=\"1\" class=\"dataframe\">\n",
       "  <thead>\n",
       "    <tr style=\"text-align: right;\">\n",
       "      <th></th>\n",
       "      <th>Class</th>\n",
       "      <th>Title</th>\n",
       "      <th>Description</th>\n",
       "    </tr>\n",
       "  </thead>\n",
       "  <tbody>\n",
       "    <tr>\n",
       "      <th>0</th>\n",
       "      <td>3</td>\n",
       "      <td>Wall St. Bears Claw Back Into the Black (Reuters)</td>\n",
       "      <td>Reuters - Short-sellers, Wall Street's dwindli...</td>\n",
       "    </tr>\n",
       "    <tr>\n",
       "      <th>1</th>\n",
       "      <td>3</td>\n",
       "      <td>Carlyle Looks Toward Commercial Aerospace (Reu...</td>\n",
       "      <td>Reuters - Private investment firm Carlyle Grou...</td>\n",
       "    </tr>\n",
       "    <tr>\n",
       "      <th>2</th>\n",
       "      <td>3</td>\n",
       "      <td>Oil and Economy Cloud Stocks' Outlook (Reuters)</td>\n",
       "      <td>Reuters - Soaring crude prices plus worries\\ab...</td>\n",
       "    </tr>\n",
       "    <tr>\n",
       "      <th>3</th>\n",
       "      <td>3</td>\n",
       "      <td>Iraq Halts Oil Exports from Main Southern Pipe...</td>\n",
       "      <td>Reuters - Authorities have halted oil export\\f...</td>\n",
       "    </tr>\n",
       "    <tr>\n",
       "      <th>4</th>\n",
       "      <td>3</td>\n",
       "      <td>Oil prices soar to all-time record, posing new...</td>\n",
       "      <td>AFP - Tearaway world oil prices, toppling reco...</td>\n",
       "    </tr>\n",
       "    <tr>\n",
       "      <th>...</th>\n",
       "      <td>...</td>\n",
       "      <td>...</td>\n",
       "      <td>...</td>\n",
       "    </tr>\n",
       "    <tr>\n",
       "      <th>119995</th>\n",
       "      <td>1</td>\n",
       "      <td>Pakistan's Musharraf Says Won't Quit as Army C...</td>\n",
       "      <td>KARACHI (Reuters) - Pakistani President Perve...</td>\n",
       "    </tr>\n",
       "    <tr>\n",
       "      <th>119996</th>\n",
       "      <td>2</td>\n",
       "      <td>Renteria signing a top-shelf deal</td>\n",
       "      <td>Red Sox general manager Theo Epstein acknowled...</td>\n",
       "    </tr>\n",
       "    <tr>\n",
       "      <th>119997</th>\n",
       "      <td>2</td>\n",
       "      <td>Saban not going to Dolphins yet</td>\n",
       "      <td>The Miami Dolphins will put their courtship of...</td>\n",
       "    </tr>\n",
       "    <tr>\n",
       "      <th>119998</th>\n",
       "      <td>2</td>\n",
       "      <td>Today's NFL games</td>\n",
       "      <td>PITTSBURGH at NY GIANTS Time: 1:30 p.m. Line: ...</td>\n",
       "    </tr>\n",
       "    <tr>\n",
       "      <th>119999</th>\n",
       "      <td>2</td>\n",
       "      <td>Nets get Carter from Raptors</td>\n",
       "      <td>INDIANAPOLIS -- All-Star Vince Carter was trad...</td>\n",
       "    </tr>\n",
       "  </tbody>\n",
       "</table>\n",
       "<p>120000 rows × 3 columns</p>\n",
       "</div>"
      ],
      "text/plain": [
       "        Class                                              Title  \\\n",
       "0           3  Wall St. Bears Claw Back Into the Black (Reuters)   \n",
       "1           3  Carlyle Looks Toward Commercial Aerospace (Reu...   \n",
       "2           3    Oil and Economy Cloud Stocks' Outlook (Reuters)   \n",
       "3           3  Iraq Halts Oil Exports from Main Southern Pipe...   \n",
       "4           3  Oil prices soar to all-time record, posing new...   \n",
       "...       ...                                                ...   \n",
       "119995      1  Pakistan's Musharraf Says Won't Quit as Army C...   \n",
       "119996      2                  Renteria signing a top-shelf deal   \n",
       "119997      2                    Saban not going to Dolphins yet   \n",
       "119998      2                                  Today's NFL games   \n",
       "119999      2                       Nets get Carter from Raptors   \n",
       "\n",
       "                                              Description  \n",
       "0       Reuters - Short-sellers, Wall Street's dwindli...  \n",
       "1       Reuters - Private investment firm Carlyle Grou...  \n",
       "2       Reuters - Soaring crude prices plus worries\\ab...  \n",
       "3       Reuters - Authorities have halted oil export\\f...  \n",
       "4       AFP - Tearaway world oil prices, toppling reco...  \n",
       "...                                                   ...  \n",
       "119995   KARACHI (Reuters) - Pakistani President Perve...  \n",
       "119996  Red Sox general manager Theo Epstein acknowled...  \n",
       "119997  The Miami Dolphins will put their courtship of...  \n",
       "119998  PITTSBURGH at NY GIANTS Time: 1:30 p.m. Line: ...  \n",
       "119999  INDIANAPOLIS -- All-Star Vince Carter was trad...  \n",
       "\n",
       "[120000 rows x 3 columns]"
      ]
     },
     "execution_count": 3,
     "metadata": {},
     "output_type": "execute_result"
    }
   ],
   "source": [
    "df = pd.read_csv(\"ag_news_csv/train.csv\", header=None ,names=[\"Class\", \"Title\", \"Description\"])\n",
    "df"
   ]
  },
  {
   "cell_type": "code",
   "execution_count": 4,
   "metadata": {},
   "outputs": [],
   "source": [
    "#Defining few helper functions\n",
    "\n",
    "def exp_data(df: pd.DataFrame):\n",
    "\n",
    "    class_labels = {1: \"World\", 2: \"Sports\", 3: \"Business\", 4: \"Sci/Tech\"}\n",
    "\n",
    "    print(\"Dataset Information:\")\n",
    "    df.info()\n",
    "    print(\"\\n\")\n",
    "\n",
    "    print(\"Dataset Shape (rows, columns):\", df.shape, \"\\n\")\n",
    "\n",
    "    print(\"Missing Values (per column):\")\n",
    "    print(df.isnull().sum(), \"\\n\")\n",
    "\n",
    "    print(\"Class Distribution:\")\n",
    "    class_counts = df['Class'].value_counts().sort_index()\n",
    "    for class_num, count in class_counts.items():\n",
    "        label = class_labels.get(class_num, f\"Unknown Class ({class_num})\")\n",
    "        per = (count / len(df)) * 100\n",
    "        print(f\" - {label} ({class_num}): {count} entries ({per:.2f}%)\")\n",
    "    print(\"\\n\")\n",
    "\n",
    "    print(\"Basic Statistics for Text Columns:\")\n",
    "    for col in ['Title', 'Description']:\n",
    "        print(f\"\\n Column: {col}\")\n",
    "        text_len = df[col].astype(str).apply(lambda x: len(x.split()))\n",
    "        print(f\" - Average word count: {text_len.mean():.2f}\")\n",
    "        print(f\" - Median word count: {text_len.median():.2f}\")\n",
    "        print(f\" - Min words: {text_len.min()}, Max words: {text_len.max()}\")\n",
    "\n",
    "\n",
    "def polarity_dist(df: pd.DataFrame, text_column: str):\n",
    "\n",
    "    polarities = []\n",
    "    for text in df[text_column].astype(str):\n",
    "        polarity = TextBlob(text).sentiment.polarity\n",
    "        polarities.append(polarity)\n",
    "\n",
    "    plt.figure()\n",
    "    plt.hist(polarities, bins=30)\n",
    "    plt.title(f\"Polarity Distribution for '{text_column}'\")\n",
    "    plt.xlabel(\"Polarity\")\n",
    "    plt.ylabel(\"Frequency\")\n",
    "    plt.show()\n",
    "\n",
    "def word_count_dist(df: pd.DataFrame, text_column: str):\n",
    "\n",
    "    word_counts = []\n",
    "    for text in df[text_column].astype(str):\n",
    "        tokens = nltk.word_tokenize(text)\n",
    "        word_counts.append(len(tokens))\n",
    "\n",
    "    plt.figure()\n",
    "    plt.hist(word_counts, bins=30)\n",
    "    plt.title(f\"Word Count Distribution for '{text_column}'\")\n",
    "    plt.xlabel(\"Word Count\")\n",
    "    plt.ylabel(\"Frequency\")\n",
    "    plt.show()\n",
    "\n",
    "def top_n_words(df: pd.DataFrame, text_column: str, n: int = 20, alpha: bool = False):\n",
    "\n",
    "    corpus = \" \".join(df[text_column].astype(str)).lower()\n",
    "    tokens = nltk.word_tokenize(corpus)\n",
    "\n",
    "    if alpha:\n",
    "        tokens = [token for token in tokens if token.isalpha()]\n",
    "\n",
    "    freq_dist = nltk.FreqDist(tokens)\n",
    "    most_common = freq_dist.most_common(n)\n",
    "\n",
    "    words, counts = zip(*most_common)\n",
    "\n",
    "    plt.figure(figsize=(10, 6))\n",
    "    plt.bar(words, counts, color='cornflowerblue' if alpha else 'salmon')\n",
    "    alpha_status = 'Alphabetic Only' if alpha else 'All Tokens (Mixed Characters Included)'\n",
    "    plt.title(f\"Top {n} Most Frequent Words ({alpha_status}) in '{text_column}'\")\n",
    "    plt.xlabel(\"Words\")\n",
    "    plt.ylabel(\"Frequency\")\n",
    "    plt.xticks(rotation=45)\n",
    "    plt.grid(axis='y', linestyle='--', alpha=0.7)\n",
    "    plt.tight_layout()\n",
    "    plt.show()"
   ]
  },
  {
   "cell_type": "code",
   "execution_count": 5,
   "metadata": {},
   "outputs": [
    {
     "name": "stdout",
     "output_type": "stream",
     "text": [
      "Dataset Information:\n",
      "<class 'pandas.core.frame.DataFrame'>\n",
      "RangeIndex: 120000 entries, 0 to 119999\n",
      "Data columns (total 3 columns):\n",
      " #   Column       Non-Null Count   Dtype \n",
      "---  ------       --------------   ----- \n",
      " 0   Class        120000 non-null  int64 \n",
      " 1   Title        120000 non-null  object\n",
      " 2   Description  120000 non-null  object\n",
      "dtypes: int64(1), object(2)\n",
      "memory usage: 2.7+ MB\n",
      "\n",
      "\n",
      "Dataset Shape (rows, columns): (120000, 3) \n",
      "\n",
      "Missing Values (per column):\n",
      "Class          0\n",
      "Title          0\n",
      "Description    0\n",
      "dtype: int64 \n",
      "\n",
      "Class Distribution:\n",
      " - World (1): 30000 entries (25.00%)\n",
      " - Sports (2): 30000 entries (25.00%)\n",
      " - Business (3): 30000 entries (25.00%)\n",
      " - Sci/Tech (4): 30000 entries (25.00%)\n",
      "\n",
      "\n",
      "Basic Statistics for Text Columns:\n",
      "\n",
      " Column: Title\n",
      " - Average word count: 6.78\n",
      " - Median word count: 7.00\n",
      " - Min words: 1, Max words: 19\n",
      "\n",
      " Column: Description\n",
      " - Average word count: 31.06\n",
      " - Median word count: 30.00\n",
      " - Min words: 3, Max words: 173\n"
     ]
    }
   ],
   "source": [
    "exp_data(df)"
   ]
  },
  {
   "cell_type": "code",
   "execution_count": 7,
   "metadata": {},
   "outputs": [
    {
     "data": {
      "image/png": "[encoded data removed]",
      "text/plain": [
       "<Figure size 432x288 with 1 Axes>"
      ]
     },
     "metadata": {
      "needs_background": "light"
     },
     "output_type": "display_data"
    }
   ],
   "source": [
    "polarity_dist(df,'Description')"
   ]
  },
  {
   "cell_type": "markdown",
   "metadata": {},
   "source": [
    "The above plot explains on how the polarity of the description column is distributed accross. Majority of the news is focused to be neutral in nature but few are spread to be positive and negative in few other cases."
   ]
  },
  {
   "cell_type": "code",
   "execution_count": 8,
   "metadata": {},
   "outputs": [
    {
     "data": {
      "image/png": "[encoded data removed]",
      "text/plain": [
       "<Figure size 432x288 with 1 Axes>"
      ]
     },
     "metadata": {
      "needs_background": "light"
     },
     "output_type": "display_data"
    }
   ],
   "source": [
    "word_count_dist(df,'Description')"
   ]
  },
  {
   "cell_type": "markdown",
   "metadata": {},
   "source": [
    "The number of words in the description column is focused to be around 46-48 words on average but there are few outliers towards 100 and near 0 which we address using padding and clipping few words."
   ]
  },
  {
   "cell_type": "code",
   "execution_count": 9,
   "metadata": {},
   "outputs": [
    {
     "data": {
      "image/png": "[encoded data removed]",
      "text/plain": [
       "<Figure size 720x432 with 1 Axes>"
      ]
     },
     "metadata": {
      "needs_background": "light"
     },
     "output_type": "display_data"
    },
    {
     "data": {
      "image/png": "[encoded data removed]",
      "text/plain": [
       "<Figure size 720x432 with 1 Axes>"
      ]
     },
     "metadata": {
      "needs_background": "light"
     },
     "output_type": "display_data"
    }
   ],
   "source": [
    "top_n_words(df,'Description', n=20, alpha=True)\n",
    "top_n_words(df,'Description', n=20, alpha=False)"
   ]
  },
  {
   "cell_type": "markdown",
   "metadata": {},
   "source": [
    "The above plots help understand which words or characters appear the most in the whole set of descriptions. This hugely helps in the data cleaning part as we remove stop words and clean unrecognised characters or punctuations or noise from the data for faster training and efficiency. "
   ]
  },
  {
   "cell_type": "code",
   "execution_count": 10,
   "metadata": {
    "scrolled": false
   },
   "outputs": [
    {
     "name": "stdout",
     "output_type": "stream",
     "text": [
      "\n",
      "=============== Examples containing Dollar ($) ===============\n",
      "\n",
      "Index 18:\n",
      "The US trade deficit has exploded 19 to a record \\$55.8bn as oil costs drove imports higher, according to a latest figures.\n",
      "\n",
      "Matches found: ['$']\n",
      "------------------------------------------------------------\n",
      "\n",
      "Index 26:\n",
      "An auction of shares in Google, the web search engine which could be floated for as much as \\$36bn, takes place on Friday.\n",
      "\n",
      "Matches found: ['$']\n",
      "------------------------------------------------------------\n",
      "\n",
      "\n",
      "=============== Examples containing Multipe Period (..) ===============\n",
      "\n",
      "Index 40:\n",
      "Target the abusers of legal weapons We can all share the outrage, expressed by columnist Steve Bailey (''Summer Sizzler, quot; Aug. 11), at the killings in the city's poor neighborhoods. But there's no need to share his ignorance. He argues for renewal of the so-called assault weapon ban, claiming that otherwise, ''UZIs and AK-47s could again be flooding the streets. quot; His ...\n",
      "\n",
      "Matches found: ['..']\n",
      "------------------------------------------------------------\n",
      "\n",
      "Index 63:\n",
      "Globalization does strange things to people. A day in the life of a Manila Philippines based business consultant - proving that you really CAN talk about Muddy Walters, bluegrass and work all on the same page...\n",
      "\n",
      "Matches found: ['..']\n",
      "------------------------------------------------------------\n",
      "\n",
      "\n",
      "=============== Examples containing s ===============\n",
      "\n",
      "Index 4039:\n",
      "Brain peptide may be target for new drugs to treat insomnia, ADHD    HealthDayNews -- A brain protein that regulates sleep and anxiety may offer a target for the development of new drugs to treat conditions such as sleep and anxiety disorders and attention-deficit hyperactivity disorder.    In research with rodents, University of California, Irvine scientists found that neuropeptide S (NPS) increases alertness, suppresses sleep and controls stress response...\n",
      "\n",
      "Matches found: [' S ']\n",
      "------------------------------------------------------------\n",
      "\n",
      "Index 8260:\n",
      "Google has one of the worst corporate governance of any company in the S amp;P 500 index according to a highly respected advisory group.\n",
      "\n",
      "Matches found: [' S ']\n",
      "------------------------------------------------------------\n",
      "\n",
      "\n",
      "=============== Examples containing Semicolon (;) ===============\n",
      "\n",
      "Index 5:\n",
      "Reuters - Stocks ended slightly higher on Friday\\but stayed near lows for the year as oil prices surged past  #36;46\\a barrel, offsetting a positive outlook from computer maker\\Dell Inc. (DELL.O)\n",
      "\n",
      "Matches found: [';']\n",
      "------------------------------------------------------------\n",
      "\n",
      "Index 6:\n",
      "AP - Assets of the nation's retail money market mutual funds fell by  #36;1.17 billion in the latest week to  #36;849.98 trillion, the Investment Company Institute said Thursday.\n",
      "\n",
      "Matches found: [';', ';']\n",
      "------------------------------------------------------------\n",
      "\n",
      "\n",
      "=============== Examples containing Hyphen (-) ===============\n",
      "\n",
      "Index 0:\n",
      "Reuters - Short-sellers, Wall Street's dwindling\\band of ultra-cynics, are seeing green again.\n",
      "\n",
      "Matches found: ['-', '-', '-']\n",
      "------------------------------------------------------------\n",
      "\n",
      "Index 1:\n",
      "Reuters - Private investment firm Carlyle Group,\\which has a reputation for making well-timed and occasionally\\controversial plays in the defense industry, has quietly placed\\its bets on another part of the market.\n",
      "\n",
      "Matches found: ['-', '-']\n",
      "------------------------------------------------------------\n",
      "\n",
      "\n",
      "=============== Examples containing Multiple Slashes (\\) ===============\n",
      "\n",
      "Index 167:\n",
      "\\\\Java developers often load system properties to customize the runtime behavior\\of their applications.\\\\For example a develoepr could define a 'max_connections' system property to\\define the maximum number of TCP connections that their application server can\\support.  While nice, this prevents all other applications from using this\\variable name.\\\\The first reaction to this would be to namespace your variable names.  Instead\\of using max_connections you would now use\\'my.application.Server.MAX_CONNECTIONS' as your property name.  This works of\\course but now you have to load this property on startup.\\\\public static int MAX_CONNECTIONS = Integer.parseInt( System.getProperty(\\\"my.application.Se ...\\\\\n",
      "\n",
      "Matches found: ['\\\\\\\\', '\\\\\\\\', '\\\\\\\\', '\\\\\\\\', '\\\\\\\\']\n",
      "------------------------------------------------------------\n",
      "\n",
      "Index 168:\n",
      "\\\\I just wanted to say thanks to IBM for Open Sourcing  Cloudscape .\\\\You guys really have your act together.  Keep up the good work!\\\\\n",
      "\n",
      "Matches found: ['\\\\\\\\', '\\\\\\\\', '\\\\\\\\']\n",
      "------------------------------------------------------------\n",
      "\n",
      "\n",
      "=============== Examples containing Newline (/n) ===============\n",
      "\n",
      "No matches found for this pattern.\n",
      "\n",
      "\n",
      "=============== Examples containing Word quot; ===============\n",
      "\n",
      "Index 40:\n",
      "Target the abusers of legal weapons We can all share the outrage, expressed by columnist Steve Bailey (''Summer Sizzler, quot; Aug. 11), at the killings in the city's poor neighborhoods. But there's no need to share his ignorance. He argues for renewal of the so-called assault weapon ban, claiming that otherwise, ''UZIs and AK-47s could again be flooding the streets. quot; His ...\n",
      "\n",
      "Matches found: ['quot;', 'quot;']\n",
      "------------------------------------------------------------\n",
      "\n",
      "Index 41:\n",
      "President Bush has been saying that the US economy has ''turned the corner. quot; Democratic presidential candidate Senator John F. Kerry, in the wake of this month's poor jobs report, quipped that it was more like a U-turn.\n",
      "\n",
      "Matches found: ['quot;']\n",
      "------------------------------------------------------------\n",
      "\n",
      "\n",
      "=============== Examples containing Brackets () ===============\n",
      "\n",
      "Index 7006:\n",
      "Premier Yu Shyi-kun () said Saturday that he attaches great importance to the signing of a free trade agreement with the United States and urged Taiwanese expatriates to help Taiwan achieve this goal.\n",
      "\n",
      "Matches found: ['()']\n",
      "------------------------------------------------------------\n",
      "\n",
      "Index 8286:\n",
      "Minister of Foreign Affairs Mark Chen () yesterday blamed the uneven levels of democratization in Singapore and Taiwan for Prime Minister Lee Hsien Loong #39;s () refusal on Sunday to support Taiwan if it provoked cross-strait conflict over \n",
      "\n",
      "Matches found: ['()', '()']\n",
      "------------------------------------------------------------\n",
      "\n"
     ]
    }
   ],
   "source": [
    "#Description column analysis for data cleaning \n",
    "patterns = {\n",
    "    'Dollar ($)': r'\\$',\n",
    "    'Multipe Period (..)': r'\\.\\.',\n",
    "    's': r'\\s+s\\s+',\n",
    "    'Semicolon (;)': r';',\n",
    "    'Hyphen (-)': r'-',\n",
    "    'Multiple Slashes (\\\\)': r'\\\\\\\\',\n",
    "    'Newline (/n)': r'\\s+/n\\s+',\n",
    "    'Word quot;': r'quot;',\n",
    "    'Brackets ()': r'\\(\\)'\n",
    "}\n",
    "\n",
    "for description, pattern in patterns.items():\n",
    "    print(f\"\\n{'='*15} Examples containing {description} {'='*15}\\n\")\n",
    "    \n",
    "    matching = df[df['Description'].astype(str).str.contains(pattern, regex=True, case=False, na=False)]\n",
    "\n",
    "    if matching.empty:\n",
    "        print(\"No matches found for this pattern.\\n\")\n",
    "        continue\n",
    "    \n",
    "    for idx, desc in matching.head(2)['Description'].items():\n",
    "        matches_found = re.findall(pattern, str(desc), flags=re.IGNORECASE)\n",
    "        print(f\"Index {idx}:\\n{desc}\\n\")\n",
    "        print(f\"Matches found: {matches_found}\\n{'-'*60}\\n\")"
   ]
  },
  {
   "cell_type": "code",
   "execution_count": 11,
   "metadata": {
    "scrolled": false
   },
   "outputs": [
    {
     "name": "stdout",
     "output_type": "stream",
     "text": [
      "\n",
      "=============== Examples containing Dollar ($) ===============\n",
      "\n",
      "Index 33:\n",
      "Saudi phone sector gets \\$1bn lift\n",
      "\n",
      "Matches found: ['$']\n",
      "------------------------------------------------------------\n",
      "\n",
      "Index 44:\n",
      "State grant to aid Lynn; Bank gives Salem \\$10k\n",
      "\n",
      "Matches found: ['$']\n",
      "------------------------------------------------------------\n",
      "\n",
      "\n",
      "=============== Examples containing Multipe Period (..) ===============\n",
      "\n",
      "Index 53:\n",
      "What's Cool In the Pool ... ... And Hot On the Deck\n",
      "\n",
      "Matches found: ['..', '..']\n",
      "------------------------------------------------------------\n",
      "\n",
      "Index 167:\n",
      "RuntimeProperties... Reflection from System Properties\n",
      "\n",
      "Matches found: ['..']\n",
      "------------------------------------------------------------\n",
      "\n",
      "\n",
      "=============== Examples containing (s) ===============\n",
      "\n",
      "Index 580:\n",
      "Iraq troops move angers S Koreans\n",
      "\n",
      "Matches found: [' S ']\n",
      "------------------------------------------------------------\n",
      "\n",
      "Index 8120:\n",
      "The Investment Column: Chief goes but S amp;F remains a buy\n",
      "\n",
      "Matches found: [' S ']\n",
      "------------------------------------------------------------\n",
      "\n",
      "\n",
      "=============== Examples containing Semicolon (;) ===============\n",
      "\n",
      "Index 44:\n",
      "State grant to aid Lynn; Bank gives Salem \\$10k\n",
      "\n",
      "Matches found: [';']\n",
      "------------------------------------------------------------\n",
      "\n",
      "Index 161:\n",
      "Junk faxes to be legalized as  quot;opt-out? quot;\n",
      "\n",
      "Matches found: [';', ';']\n",
      "------------------------------------------------------------\n",
      "\n",
      "\n",
      "=============== Examples containing Hyphen (-) ===============\n",
      "\n",
      "Index 4:\n",
      "Oil prices soar to all-time record, posing new menace to US economy (AFP)\n",
      "\n",
      "Matches found: ['-']\n",
      "------------------------------------------------------------\n",
      "\n",
      "Index 11:\n",
      "No Need for OPEC to Pump More-Iran Gov\n",
      "\n",
      "Matches found: ['-']\n",
      "------------------------------------------------------------\n",
      "\n",
      "\n",
      "=============== Examples containing Multiple Slashes (\\) ===============\n",
      "\n",
      "No matches found for this pattern.\n",
      "\n",
      "\n",
      "=============== Examples containing Newline (/n) ===============\n",
      "\n",
      "No matches found for this pattern.\n",
      "\n",
      "\n",
      "=============== Examples containing Word quot; ===============\n",
      "\n",
      "Index 161:\n",
      "Junk faxes to be legalized as  quot;opt-out? quot;\n",
      "\n",
      "Matches found: ['quot;', 'quot;']\n",
      "------------------------------------------------------------\n",
      "\n",
      "Index 1509:\n",
      "HP releases  quot;carrier quot; grade Linux for pigeons\n",
      "\n",
      "Matches found: ['quot;', 'quot;']\n",
      "------------------------------------------------------------\n",
      "\n",
      "\n",
      "=============== Examples containing Semicolon ===============\n",
      "\n",
      "Index 44:\n",
      "State grant to aid Lynn; Bank gives Salem \\$10k\n",
      "\n",
      "Matches found: [';']\n",
      "------------------------------------------------------------\n",
      "\n",
      "Index 161:\n",
      "Junk faxes to be legalized as  quot;opt-out? quot;\n",
      "\n",
      "Matches found: [';', ';']\n",
      "------------------------------------------------------------\n",
      "\n"
     ]
    }
   ],
   "source": [
    "#Title column analysis for data cleaning \n",
    "patterns = {\n",
    "    'Dollar ($)': r'\\$',\n",
    "    'Multipe Period (..)': r'\\.\\.',\n",
    "    '(s)': r'\\s+s\\s+',\n",
    "    'Semicolon (;)': r';',\n",
    "    'Hyphen (-)': r'-',\n",
    "    'Multiple Slashes (\\\\)': r'\\\\\\\\',\n",
    "    'Newline (/n)': r'\\s+/n\\s+',\n",
    "    'Word quot;': r'quot;',\n",
    "    'Semicolon': r';'\n",
    "}\n",
    "\n",
    "for description, pattern in patterns.items():\n",
    "    print(f\"\\n{'='*15} Examples containing {description} {'='*15}\\n\")\n",
    "    \n",
    "    matching = df[df['Title'].astype(str).str.contains(pattern, regex=True, case=False, na=False)]\n",
    "\n",
    "    if matching.empty:\n",
    "        print(\"No matches found for this pattern.\\n\")\n",
    "        continue\n",
    "    \n",
    "    for idx, desc in matching.head(2)['Title'].items():\n",
    "        matches_found = re.findall(pattern, str(desc), flags=re.IGNORECASE)\n",
    "        print(f\"Index {idx}:\\n{desc}\\n\")\n",
    "        print(f\"Matches found: {matches_found}\\n{'-'*60}\\n\")"
   ]
  },
  {
   "cell_type": "markdown",
   "metadata": {},
   "source": [
    "3. Text preprocessing:\n",
    "   - Text cleaning: Remove punctuation, stop words, and unnecessary characters.\n",
    "   - Text lowercasing: Ensure all text is lowercase for consistent representation.\n",
    "   - Tokenization: Break down the text into individual words (or tokens). Explore libraries like nltk or spaCy for tokenization functionalities. You can also use keras tokenizer or Pytorch tokenizer.\n",
    "   - Vocabulary building: Create a vocabulary containing all unique tokens encountered in the dataset.\n",
    "   - Numerical representation: Convert tokens into numerical representations using techniques like word embedding (e.g., Word2Vec, GloVe)."
   ]
  },
  {
   "cell_type": "code",
   "execution_count": 12,
   "metadata": {},
   "outputs": [],
   "source": [
    "#To clean the text data based on the above analysis\n",
    "def clean_t(text: str, title: bool = False) -> str:\n",
    "\n",
    "    text = text.lower()\n",
    "    text = re.sub(r'\\\\\\$', r'$', text) #Replaces occurrences of \"\\$\" with \"$\"\n",
    "\n",
    "    text = re.sub(r'\\.{2,}', '', text)  #Removes multiple consecutive periods \n",
    "    \n",
    "    text = re.sub(r\"''\", '', text)     #Removes empty quotes ('') with nothing inside\n",
    "    \n",
    "    if title: \n",
    "        text = re.sub(r'\\s*#\\d+;', '', text)   #Removes numbered hashtags patterns like \"#36;\"\n",
    "    else: \n",
    "        text = re.sub(r'\\s*#\\d+;', ' ', text)  \n",
    "\n",
    "    text = re.sub(r'(?<=[a-zA-Z])\\\\(?=[a-zA-Z])', '', text)  #Removes single backslash between alphabets\n",
    "\n",
    "    text = re.sub(r'quot;', '', text)     #Removes occurrences of \"quot;\"\n",
    "    \n",
    "    text = re.sub(r'\\(\\s*\\)', '', text)   #Removes brackets () containing nothing inside \n",
    "    text = re.sub(r'[()]', '', text)\n",
    "    \n",
    "    text = re.sub(r'\\s*amp;', ' ', text)  #Removes 'amp;' \n",
    "    text = re.sub(r'\\s\\\\+\\s', ' ', text)  #Removes multiple backslashes \"\\\\\" or more\n",
    "    text = re.sub(r'\\\\{2,}', ' ', text)  \n",
    "    \n",
    "    text = re.sub(r\"(\\b\\w+)'s\\b\", r\"\\1\", text) #Makes plural forms to singular\n",
    "    \n",
    "    text = re.sub(r'\\s+', ' ', text).strip()\n",
    "\n",
    "    return text\n",
    "\n",
    "\n",
    "def tokenize(text: str, stop_words: bool = True) -> list:\n",
    "\n",
    "    tokens = word_tokenize(text)\n",
    "    \n",
    "    if stop_words:\n",
    "        stop_words = set(stopwords.words('english'))\n",
    "        tokens = [t for t in tokens if t not in stop_words]\n",
    "    \n",
    "    return tokens\n",
    "\n",
    "def preprocess_t(df: pd.DataFrame, text_column: str, stop_words: bool = True, title: bool = False) -> pd.DataFrame:\n",
    "\n",
    "    processed_texts = []\n",
    "    for text in df[text_column].astype(str):\n",
    "        clean = clean_t(text, title)\n",
    "        tokens = tokenize(clean, stop_words)\n",
    "        processed_texts.append(tokens)\n",
    "    \n",
    "    new_col_name = text_column + \"_processed\"\n",
    "    df[new_col_name] = processed_texts\n",
    "    return df"
   ]
  },
  {
   "cell_type": "code",
   "execution_count": 13,
   "metadata": {},
   "outputs": [],
   "source": [
    "#Preprocess the text data and tokenize\n",
    "df = preprocess_t(df, text_column='Description', stop_words=True)\n",
    "df = preprocess_t(df, text_column='Title', stop_words=True, title=True)"
   ]
  },
  {
   "cell_type": "code",
   "execution_count": 14,
   "metadata": {},
   "outputs": [
    {
     "data": {
      "text/html": [
       "<div>\n",
       "<style scoped>\n",
       "    .dataframe tbody tr th:only-of-type {\n",
       "        vertical-align: middle;\n",
       "    }\n",
       "\n",
       "    .dataframe tbody tr th {\n",
       "        vertical-align: top;\n",
       "    }\n",
       "\n",
       "    .dataframe thead th {\n",
       "        text-align: right;\n",
       "    }\n",
       "</style>\n",
       "<table border=\"1\" class=\"dataframe\">\n",
       "  <thead>\n",
       "    <tr style=\"text-align: right;\">\n",
       "      <th></th>\n",
       "      <th>Class</th>\n",
       "      <th>Title</th>\n",
       "      <th>Description</th>\n",
       "      <th>Description_processed</th>\n",
       "      <th>Title_processed</th>\n",
       "    </tr>\n",
       "  </thead>\n",
       "  <tbody>\n",
       "    <tr>\n",
       "      <th>0</th>\n",
       "      <td>3</td>\n",
       "      <td>Wall St. Bears Claw Back Into the Black (Reuters)</td>\n",
       "      <td>Reuters - Short-sellers, Wall Street's dwindli...</td>\n",
       "      <td>[reuters, -, short-sellers, ,, wall, street, d...</td>\n",
       "      <td>[wall, st., bears, claw, back, black, reuters]</td>\n",
       "    </tr>\n",
       "    <tr>\n",
       "      <th>1</th>\n",
       "      <td>3</td>\n",
       "      <td>Carlyle Looks Toward Commercial Aerospace (Reu...</td>\n",
       "      <td>Reuters - Private investment firm Carlyle Grou...</td>\n",
       "      <td>[reuters, -, private, investment, firm, carlyl...</td>\n",
       "      <td>[carlyle, looks, toward, commercial, aerospace...</td>\n",
       "    </tr>\n",
       "    <tr>\n",
       "      <th>2</th>\n",
       "      <td>3</td>\n",
       "      <td>Oil and Economy Cloud Stocks' Outlook (Reuters)</td>\n",
       "      <td>Reuters - Soaring crude prices plus worries\\ab...</td>\n",
       "      <td>[reuters, -, soaring, crude, prices, plus, wor...</td>\n",
       "      <td>[oil, economy, cloud, stocks, ', outlook, reut...</td>\n",
       "    </tr>\n",
       "    <tr>\n",
       "      <th>3</th>\n",
       "      <td>3</td>\n",
       "      <td>Iraq Halts Oil Exports from Main Southern Pipe...</td>\n",
       "      <td>Reuters - Authorities have halted oil export\\f...</td>\n",
       "      <td>[reuters, -, authorities, halted, oil, exportf...</td>\n",
       "      <td>[iraq, halts, oil, exports, main, southern, pi...</td>\n",
       "    </tr>\n",
       "    <tr>\n",
       "      <th>4</th>\n",
       "      <td>3</td>\n",
       "      <td>Oil prices soar to all-time record, posing new...</td>\n",
       "      <td>AFP - Tearaway world oil prices, toppling reco...</td>\n",
       "      <td>[afp, -, tearaway, world, oil, prices, ,, topp...</td>\n",
       "      <td>[oil, prices, soar, all-time, record, ,, posin...</td>\n",
       "    </tr>\n",
       "    <tr>\n",
       "      <th>...</th>\n",
       "      <td>...</td>\n",
       "      <td>...</td>\n",
       "      <td>...</td>\n",
       "      <td>...</td>\n",
       "      <td>...</td>\n",
       "    </tr>\n",
       "    <tr>\n",
       "      <th>119995</th>\n",
       "      <td>1</td>\n",
       "      <td>Pakistan's Musharraf Says Won't Quit as Army C...</td>\n",
       "      <td>KARACHI (Reuters) - Pakistani President Perve...</td>\n",
       "      <td>[karachi, reuters, -, pakistani, president, pe...</td>\n",
       "      <td>[pakistan, musharraf, says, wo, n't, quit, arm...</td>\n",
       "    </tr>\n",
       "    <tr>\n",
       "      <th>119996</th>\n",
       "      <td>2</td>\n",
       "      <td>Renteria signing a top-shelf deal</td>\n",
       "      <td>Red Sox general manager Theo Epstein acknowled...</td>\n",
       "      <td>[red, sox, general, manager, theo, epstein, ac...</td>\n",
       "      <td>[renteria, signing, top-shelf, deal]</td>\n",
       "    </tr>\n",
       "    <tr>\n",
       "      <th>119997</th>\n",
       "      <td>2</td>\n",
       "      <td>Saban not going to Dolphins yet</td>\n",
       "      <td>The Miami Dolphins will put their courtship of...</td>\n",
       "      <td>[miami, dolphins, put, courtship, lsu, coach, ...</td>\n",
       "      <td>[saban, going, dolphins, yet]</td>\n",
       "    </tr>\n",
       "    <tr>\n",
       "      <th>119998</th>\n",
       "      <td>2</td>\n",
       "      <td>Today's NFL games</td>\n",
       "      <td>PITTSBURGH at NY GIANTS Time: 1:30 p.m. Line: ...</td>\n",
       "      <td>[pittsburgh, ny, giants, time, :, 1:30, p.m., ...</td>\n",
       "      <td>[today, nfl, games]</td>\n",
       "    </tr>\n",
       "    <tr>\n",
       "      <th>119999</th>\n",
       "      <td>2</td>\n",
       "      <td>Nets get Carter from Raptors</td>\n",
       "      <td>INDIANAPOLIS -- All-Star Vince Carter was trad...</td>\n",
       "      <td>[indianapolis, --, all-star, vince, carter, tr...</td>\n",
       "      <td>[nets, get, carter, raptors]</td>\n",
       "    </tr>\n",
       "  </tbody>\n",
       "</table>\n",
       "<p>120000 rows × 5 columns</p>\n",
       "</div>"
      ],
      "text/plain": [
       "        Class                                              Title  \\\n",
       "0           3  Wall St. Bears Claw Back Into the Black (Reuters)   \n",
       "1           3  Carlyle Looks Toward Commercial Aerospace (Reu...   \n",
       "2           3    Oil and Economy Cloud Stocks' Outlook (Reuters)   \n",
       "3           3  Iraq Halts Oil Exports from Main Southern Pipe...   \n",
       "4           3  Oil prices soar to all-time record, posing new...   \n",
       "...       ...                                                ...   \n",
       "119995      1  Pakistan's Musharraf Says Won't Quit as Army C...   \n",
       "119996      2                  Renteria signing a top-shelf deal   \n",
       "119997      2                    Saban not going to Dolphins yet   \n",
       "119998      2                                  Today's NFL games   \n",
       "119999      2                       Nets get Carter from Raptors   \n",
       "\n",
       "                                              Description  \\\n",
       "0       Reuters - Short-sellers, Wall Street's dwindli...   \n",
       "1       Reuters - Private investment firm Carlyle Grou...   \n",
       "2       Reuters - Soaring crude prices plus worries\\ab...   \n",
       "3       Reuters - Authorities have halted oil export\\f...   \n",
       "4       AFP - Tearaway world oil prices, toppling reco...   \n",
       "...                                                   ...   \n",
       "119995   KARACHI (Reuters) - Pakistani President Perve...   \n",
       "119996  Red Sox general manager Theo Epstein acknowled...   \n",
       "119997  The Miami Dolphins will put their courtship of...   \n",
       "119998  PITTSBURGH at NY GIANTS Time: 1:30 p.m. Line: ...   \n",
       "119999  INDIANAPOLIS -- All-Star Vince Carter was trad...   \n",
       "\n",
       "                                    Description_processed  \\\n",
       "0       [reuters, -, short-sellers, ,, wall, street, d...   \n",
       "1       [reuters, -, private, investment, firm, carlyl...   \n",
       "2       [reuters, -, soaring, crude, prices, plus, wor...   \n",
       "3       [reuters, -, authorities, halted, oil, exportf...   \n",
       "4       [afp, -, tearaway, world, oil, prices, ,, topp...   \n",
       "...                                                   ...   \n",
       "119995  [karachi, reuters, -, pakistani, president, pe...   \n",
       "119996  [red, sox, general, manager, theo, epstein, ac...   \n",
       "119997  [miami, dolphins, put, courtship, lsu, coach, ...   \n",
       "119998  [pittsburgh, ny, giants, time, :, 1:30, p.m., ...   \n",
       "119999  [indianapolis, --, all-star, vince, carter, tr...   \n",
       "\n",
       "                                          Title_processed  \n",
       "0          [wall, st., bears, claw, back, black, reuters]  \n",
       "1       [carlyle, looks, toward, commercial, aerospace...  \n",
       "2       [oil, economy, cloud, stocks, ', outlook, reut...  \n",
       "3       [iraq, halts, oil, exports, main, southern, pi...  \n",
       "4       [oil, prices, soar, all-time, record, ,, posin...  \n",
       "...                                                   ...  \n",
       "119995  [pakistan, musharraf, says, wo, n't, quit, arm...  \n",
       "119996               [renteria, signing, top-shelf, deal]  \n",
       "119997                      [saban, going, dolphins, yet]  \n",
       "119998                                [today, nfl, games]  \n",
       "119999                       [nets, get, carter, raptors]  \n",
       "\n",
       "[120000 rows x 5 columns]"
      ]
     },
     "execution_count": 14,
     "metadata": {},
     "output_type": "execute_result"
    }
   ],
   "source": [
    "df"
   ]
  },
  {
   "cell_type": "code",
   "execution_count": 15,
   "metadata": {},
   "outputs": [
    {
     "name": "stdout",
     "output_type": "stream",
     "text": [
      "Combined max_len (98th percentile): 57\n"
     ]
    }
   ],
   "source": [
    "def max_perc(tokenized_texts, percentile=98):\n",
    "    lengths = [len(tokens) for tokens in tokenized_texts]\n",
    "    return int(np.percentile(lengths, percentile))\n",
    "\n",
    "combined_tokens = [t + d for t, d in zip(df['Title_processed'], df['Description_processed'])]\n",
    "\n",
    "max_len_comb = max_perc(combined_tokens, percentile=98)\n",
    "print(f\"Combined max_len (98th percentile): {max_len_comb}\")"
   ]
  },
  {
   "cell_type": "code",
   "execution_count": 16,
   "metadata": {},
   "outputs": [],
   "source": [
    "#Train the word2vec embeddings on the data \n",
    "w2v = Word2Vec(\n",
    "    sentences=combined_tokens,\n",
    "    vector_size=128,\n",
    "    window=5,\n",
    "    min_count=2,\n",
    "    workers=8,\n",
    "    epochs=15\n",
    ")"
   ]
  },
  {
   "cell_type": "code",
   "execution_count": 17,
   "metadata": {},
   "outputs": [],
   "source": [
    "vocab = list(w2v.wv.index_to_key)\n",
    "vocab_dict = {word: idx+2 for idx, word in enumerate(vocab)}  # PAD=0, UNK=1\n",
    "\n",
    "embedding_matrix = np.zeros((len(vocab_dict) + 2, 128))\n",
    "for word, idx in vocab_dict.items():\n",
    "    embedding_matrix[idx] = w2v.wv[word]"
   ]
  },
  {
   "cell_type": "code",
   "execution_count": 18,
   "metadata": {},
   "outputs": [],
   "source": [
    "class News_Data(Dataset):\n",
    "    def __init__(self, tokenized_titles, tokenized_descs, labels, vocab_dict, max_len):\n",
    "        self.tokenized_titles = tokenized_titles\n",
    "        self.tokenized_descs = tokenized_descs\n",
    "        self.labels = labels\n",
    "        self.vocab_dict = vocab_dict\n",
    "        self.max_len = max_len\n",
    "\n",
    "    def __len__(self):\n",
    "        return len(self.labels)\n",
    "\n",
    "    def encode(self, tokens):\n",
    "        encoded = [self.vocab_dict.get(token, 1) for token in tokens]  #UNK 1\n",
    "        if len(encoded) > self.max_len:\n",
    "            encoded = encoded[:self.max_len]\n",
    "        else:\n",
    "            encoded += [0] * (self.max_len - len(encoded))  #PAD 0\n",
    "        return torch.tensor(encoded, dtype=torch.long)  \n",
    "\n",
    "    def __getitem__(self, idx):\n",
    "        combined_tokens = self.tokenized_titles[idx] + self.tokenized_descs[idx]\n",
    "        return self.encode(combined_tokens), torch.tensor(self.labels[idx]-1, dtype=torch.long)"
   ]
  },
  {
   "cell_type": "markdown",
   "metadata": {},
   "source": [
    "## Step 2: Model Construction"
   ]
  },
  {
   "cell_type": "markdown",
   "metadata": {},
   "source": [
    "1. Embeddings and positional encoding: Define an embedding layer to map tokens into numerical vectors. If using pre-trained embeddings, ensure they are compatible with your model's input dimension."
   ]
  },
  {
   "cell_type": "markdown",
   "metadata": {},
   "source": [
    "2. Implement the core Transformer architecture:\n",
    "   - Encoder: Utilize `nn.TransformerEncoder` with multiple `nn.TransformerEncoderLayer` instances. Each layer typically comprises a multi-head self-attention mechanism, a feed-forward layer, and layer normalization.\n",
    "   - Decoder: Employ `nn.TransformerDecoder` with multiple `nn.TransformerDecoderLayer` instances. These layers incorporate masked self-attention, multi-head attention over the encoder outputs, and a feed-forward layer with layer normalization."
   ]
  },
  {
   "cell_type": "code",
   "execution_count": 19,
   "metadata": {},
   "outputs": [],
   "source": [
    "class Transformer(nn.Module):\n",
    "    def __init__(self, embedding_matrix, num_classes, num_heads, num_layers, max_len, dropout=0.2):\n",
    "        super().__init__()\n",
    "        vocab_size, embed_dim = embedding_matrix.shape\n",
    "        self.embedding = nn.Embedding.from_pretrained(\n",
    "            torch.tensor(embedding_matrix, dtype=torch.float32),\n",
    "            freeze=False,\n",
    "            padding_idx=0\n",
    "        )\n",
    "        self.pos_encoder = nn.Parameter(torch.zeros(1, max_len, embed_dim))\n",
    "\n",
    "        encoder_layer = nn.TransformerEncoderLayer(\n",
    "            d_model=embed_dim, nhead=num_heads,\n",
    "            dropout=dropout, batch_first=True\n",
    "        )\n",
    "        self.transformer_encoder = nn.TransformerEncoder(encoder_layer, num_layers=num_layers)\n",
    "\n",
    "        self.dropout = nn.Dropout(dropout)\n",
    "        self.fc_out = nn.Linear(embed_dim, num_classes)\n",
    "\n",
    "    def forward(self, x):\n",
    "        embedded = self.embedding(x) + self.pos_encoder[:, :x.size(1), :]\n",
    "        encoded = self.transformer_encoder(embedded)\n",
    "        pooled = encoded.mean(dim=1)\n",
    "        out = self.dropout(pooled)\n",
    "        return self.fc_out(out)"
   ]
  },
  {
   "cell_type": "markdown",
   "metadata": {},
   "source": [
    "3. Depending on your task (e.g., classification, sequence generation), define an appropriate output layer. For classification tasks, you might use a linear layer with a softmax activation function. Additionally, for classification and regression related tasks, the decoder can be removed completely. Auto-regressive sequence generation requires a decoder."
   ]
  },
  {
   "cell_type": "code",
   "execution_count": 20,
   "metadata": {},
   "outputs": [],
   "source": [
    "device = torch.device('cuda' if torch.cuda.is_available() else 'cpu')\n",
    "\n",
    "model = Transformer(\n",
    "    embedding_matrix=embedding_matrix,\n",
    "    num_classes=4,\n",
    "    num_heads=4,\n",
    "    num_layers=2,\n",
    "    max_len=max_len_comb,\n",
    "    dropout=0\n",
    ").to(device)"
   ]
  },
  {
   "cell_type": "markdown",
   "metadata": {},
   "source": [
    "4.\tPrint model summary using torchinfo.summary"
   ]
  },
  {
   "cell_type": "code",
   "execution_count": 21,
   "metadata": {},
   "outputs": [
    {
     "data": {
      "text/plain": [
       "===============================================================================================\n",
       "Layer (type:depth-idx)                        Output Shape              Param #\n",
       "===============================================================================================\n",
       "Transformer                                   [64, 4]                   7,296\n",
       "├─Embedding: 1-1                              [64, 57, 128]             7,016,960\n",
       "├─TransformerEncoder: 1-2                     [64, 57, 128]             --\n",
       "│    └─ModuleList: 2-1                        --                        --\n",
       "│    │    └─TransformerEncoderLayer: 3-1      [64, 57, 128]             593,024\n",
       "│    │    └─TransformerEncoderLayer: 3-2      [64, 57, 128]             593,024\n",
       "├─Dropout: 1-3                                [64, 128]                 --\n",
       "├─Linear: 1-4                                 [64, 4]                   516\n",
       "===============================================================================================\n",
       "Total params: 8,210,820\n",
       "Trainable params: 8,210,820\n",
       "Non-trainable params: 0\n",
       "Total mult-adds (M): 449.12\n",
       "===============================================================================================\n",
       "Input size (MB): 0.03\n",
       "Forward/backward pass size (MB): 3.74\n",
       "Params size (MB): 28.07\n",
       "Estimated Total Size (MB): 31.84\n",
       "==============================================================================================="
      ]
     },
     "execution_count": 21,
     "metadata": {},
     "output_type": "execute_result"
    }
   ],
   "source": [
    "batch_size = 64\n",
    "dummy_input = torch.randint(0, len(vocab_dict)+2, (batch_size, max_len_comb)).to(device).long()\n",
    "summary(model, input_data=dummy_input)"
   ]
  },
  {
   "cell_type": "markdown",
   "metadata": {},
   "source": [
    "5. Briefly describe the Transformer architecture you have defined."
   ]
  },
  {
   "cell_type": "markdown",
   "metadata": {},
   "source": [
    "The model is a Transformer design specifically tailored for text classification into four news categories. It begins with an Embedding Layer, which maps input tokens to 128-dimensional dense vectors leveraging pre-trained Word2Vec embeddings where robust semantic meanings are preserved. Positional encoding is implicitly added to preserve word order within sequences. The embeddings pass through two Transformer Encoder Layers with multi-head self-attention (4 heads) and feed-forward networks so the model is able to learn word interdependencies and stabilize training with dropout and layer normalization. \n",
    "\n",
    "After encoding, representations of the sequence are mean-pooled into a single fixed-length vector and dropout applied afterwards for overfitting prevention. There is a final Classification Layer projecting this representation to logits for the four classes. The architecture has 8.2 million parameters, with most being contributed by the embedding layer (7 million). Although it is complex, it is computationally efficient, requiring around 449 million operations at inference time, and therefore is extremely well-suited to semantic understanding and sequence modeling tasks in text classification."
   ]
  },
  {
   "cell_type": "markdown",
   "metadata": {},
   "source": [
    "## Step 3: Training the Transformer"
   ]
  },
  {
   "cell_type": "markdown",
   "metadata": {},
   "source": [
    "1. Preparing for training:\n",
    "   - Divide the preprocessed data into training, validation, and testing sets using a common split ratio (e.g., 70:15:15 or 80:10:10).\n",
    "   - Choose an appropriate loss function (e.g., cross-entropy loss for classification) and an optimizer (e.g., Adam) to update model parameters during training."
   ]
  },
  {
   "cell_type": "code",
   "execution_count": 22,
   "metadata": {},
   "outputs": [],
   "source": [
    "train_dataset = News_Data(\n",
    "    df['Title_processed'],\n",
    "    df['Description_processed'],\n",
    "    df['Class'],\n",
    "    vocab_dict,\n",
    "    max_len_comb\n",
    ")\n",
    "\n",
    "train_ratio = 0.9\n",
    "val_ratio = 0.1\n",
    "\n",
    "train_size = int(train_ratio * len(train_dataset))\n",
    "val_size = len(train_dataset) - train_size\n",
    "\n",
    "batch_size = 64\n",
    "\n",
    "train_dataset, val_dataset = random_split(train_dataset, [train_size, val_size])\n",
    "train_loader = DataLoader(train_dataset, batch_size=batch_size, shuffle=True)\n",
    "val_loader = DataLoader(val_dataset, batch_size=batch_size)"
   ]
  },
  {
   "cell_type": "markdown",
   "metadata": {},
   "source": [
    "2. Define a training loop. E.g. forward pass, calculate loss, backward pass, update parameters. Train the model."
   ]
  },
  {
   "cell_type": "code",
   "execution_count": 23,
   "metadata": {},
   "outputs": [],
   "source": [
    "def train_m(model, train_loader, val_loader, criterion, optimizer, device, num_epochs=5):\n",
    "    train_losses, val_losses = [], []\n",
    "    train_accuracies, val_accuracies = [], []\n",
    "\n",
    "    for epoch in range(1, num_epochs + 1):\n",
    "        model.train()\n",
    "        train_loss, correct_train = 0.0, 0\n",
    "\n",
    "        for inputs, labels in train_loader:\n",
    "            inputs, labels = inputs.to(device), labels.to(device)\n",
    "\n",
    "            optimizer.zero_grad()\n",
    "            outputs = model(inputs)\n",
    "            loss = criterion(outputs, labels)\n",
    "            loss.backward()\n",
    "            optimizer.step()\n",
    "\n",
    "            train_loss += loss.item()\n",
    "            preds = outputs.argmax(dim=1)\n",
    "            correct_train += (preds == labels).sum().item()\n",
    "\n",
    "        avg_train_loss = train_loss / len(train_loader)\n",
    "        train_accuracy = correct_train / len(train_loader.dataset)\n",
    "\n",
    "        train_losses.append(avg_train_loss)\n",
    "        train_accuracies.append(train_accuracy)\n",
    "\n",
    "        model.eval()\n",
    "        val_loss, correct_val = 0.0, 0\n",
    "\n",
    "        with torch.no_grad():\n",
    "            for val_inputs, val_labels in val_loader:\n",
    "                val_inputs, val_labels = val_inputs.to(device), val_labels.to(device)\n",
    "                val_outputs = model(val_inputs)\n",
    "                loss = criterion(val_outputs, val_labels)\n",
    "                val_loss += loss.item()\n",
    "\n",
    "                predictions = val_outputs.argmax(dim=1)\n",
    "                correct_val += (predictions == val_labels).sum().item()\n",
    "\n",
    "        avg_val_loss = val_loss / len(val_loader)\n",
    "        val_accuracy = correct_val / len(val_loader.dataset)\n",
    "\n",
    "        val_losses.append(avg_val_loss)\n",
    "        val_accuracies.append(val_accuracy)\n",
    "\n",
    "        print(f\"Epoch [{epoch}/{num_epochs}] | \"\n",
    "              f\"Train Loss: {avg_train_loss:.4f} | \"\n",
    "              f\"Train Acc: {train_accuracy:.4f} | \"\n",
    "              f\"Val Loss: {avg_val_loss:.4f} | \"\n",
    "              f\"Val Acc: {val_accuracy:.4f}\")\n",
    "\n",
    "    epochs = range(1, num_epochs + 1)\n",
    "    fig, axs = plt.subplots(1, 2, figsize=(12, 4))\n",
    "\n",
    "    axs[0].plot(epochs, train_losses, marker='o', label='Train Loss')\n",
    "    axs[0].plot(epochs, val_losses, marker='o', label='Val Loss')\n",
    "    axs[0].set_xlabel('Epoch')\n",
    "    axs[0].set_ylabel('Loss')\n",
    "    axs[0].set_title('Train & Validation Loss')\n",
    "    axs[0].legend()\n",
    "    axs[0].grid(True)\n",
    "\n",
    "    axs[1].plot(epochs, train_accuracies, marker='o', label='Train Accuracy')\n",
    "    axs[1].plot(epochs, val_accuracies, marker='o', label='Val Accuracy')\n",
    "    axs[1].set_xlabel('Epoch')\n",
    "    axs[1].set_ylabel('Accuracy')\n",
    "    axs[1].set_title('Train & Validation Accuracy')\n",
    "    axs[1].legend()\n",
    "    axs[1].grid(True)\n",
    "\n",
    "    plt.tight_layout()\n",
    "    plt.show()"
   ]
  },
  {
   "cell_type": "code",
   "execution_count": 24,
   "metadata": {},
   "outputs": [
    {
     "name": "stdout",
     "output_type": "stream",
     "text": [
      "Epoch [1/10] | Train Loss: 0.3110 | Train Acc: 0.8943 | Val Loss: 0.2526 | Val Acc: 0.9137\n",
      "Epoch [2/10] | Train Loss: 0.2394 | Train Acc: 0.9170 | Val Loss: 0.2311 | Val Acc: 0.9206\n",
      "Epoch [3/10] | Train Loss: 0.2009 | Train Acc: 0.9298 | Val Loss: 0.2232 | Val Acc: 0.9232\n",
      "Epoch [4/10] | Train Loss: 0.1679 | Train Acc: 0.9415 | Val Loss: 0.2212 | Val Acc: 0.9233\n",
      "Epoch [5/10] | Train Loss: 0.1371 | Train Acc: 0.9525 | Val Loss: 0.2318 | Val Acc: 0.9247\n",
      "Epoch [6/10] | Train Loss: 0.1096 | Train Acc: 0.9626 | Val Loss: 0.2523 | Val Acc: 0.9225\n",
      "Epoch [7/10] | Train Loss: 0.0879 | Train Acc: 0.9701 | Val Loss: 0.2709 | Val Acc: 0.9203\n",
      "Epoch [8/10] | Train Loss: 0.0705 | Train Acc: 0.9764 | Val Loss: 0.3088 | Val Acc: 0.9148\n",
      "Epoch [9/10] | Train Loss: 0.0568 | Train Acc: 0.9811 | Val Loss: 0.3381 | Val Acc: 0.9115\n",
      "Epoch [10/10] | Train Loss: 0.0454 | Train Acc: 0.9845 | Val Loss: 0.3702 | Val Acc: 0.9170\n"
     ]
    },
    {
     "data": {
      "image/png": "[encoded data removed]",
      "text/plain": [
       "<Figure size 864x288 with 2 Axes>"
      ]
     },
     "metadata": {
      "needs_background": "light"
     },
     "output_type": "display_data"
    }
   ],
   "source": [
    "criterion = nn.CrossEntropyLoss()\n",
    "optimizer = torch.optim.Adam(model.parameters(), lr=1e-4)\n",
    "num_epoch = 10\n",
    "\n",
    "train_m(model=model,\n",
    "    train_loader=train_loader,\n",
    "    val_loader=val_loader,\n",
    "    criterion=criterion,\n",
    "    optimizer=optimizer,\n",
    "    device=device,\n",
    "    num_epochs=num_epoch\n",
    ")"
   ]
  },
  {
   "cell_type": "markdown",
   "metadata": {},
   "source": [
    "The above plots clearly shows overfitting of the base model as the train accuracies and losses totally diverge from the validation accuracies and losses. This helps us to introduce regularizations and optimizations in the model to improve it's performance and help the model learn better."
   ]
  },
  {
   "cell_type": "markdown",
   "metadata": {},
   "source": [
    "## Step 4: Evaluation and Optimization"
   ]
  },
  {
   "cell_type": "markdown",
   "metadata": {},
   "source": [
    "1. Check your model's performance on the validation set. Monitor metrics like accuracy or loss to track progress. Explore at least 3 optimization techniques to improve the performance of your Transformer model. E.g. regularization (L1/L2), dropout, early stopping, learning rate tuning."
   ]
  },
  {
   "cell_type": "code",
   "execution_count": 55,
   "metadata": {},
   "outputs": [],
   "source": [
    "#Defining helper functions for better optimization techniques\n",
    "class EarlyStopping:\n",
    "\n",
    "    def __init__(self, patience=3, delta=0.0):\n",
    "        self.patience = patience\n",
    "        self.delta = delta\n",
    "        self.counter = 0\n",
    "        self.best_loss = None\n",
    "        self.early_stop = False\n",
    "\n",
    "    def __call__(self, val_loss):\n",
    "        if self.best_loss is None:\n",
    "            self.best_loss = val_loss\n",
    "        elif val_loss > (self.best_loss - self.delta):\n",
    "            self.counter += 1\n",
    "            if self.counter >= self.patience:\n",
    "                self.early_stop = True\n",
    "        else:\n",
    "            self.best_loss = val_loss\n",
    "            self.counter = 0\n",
    "\n",
    "def train_one_epoch(model, dataloader, criterion, optimizer, device):\n",
    "    model.train()\n",
    "    running_loss = 0.0\n",
    "    correct = 0\n",
    "\n",
    "    for inputs, labels in dataloader:\n",
    "        inputs, labels = inputs.to(device), labels.to(device)\n",
    "\n",
    "        optimizer.zero_grad()\n",
    "        outputs = model(inputs)\n",
    "        loss = criterion(outputs, labels)\n",
    "        loss.backward()\n",
    "        optimizer.step()\n",
    "\n",
    "        running_loss += loss.item()\n",
    "        preds = outputs.argmax(dim=1)\n",
    "        correct += (preds == labels).sum().item()\n",
    "\n",
    "    epoch_loss = running_loss / len(dataloader)\n",
    "    epoch_acc = correct / len(dataloader.dataset)\n",
    "    return epoch_loss, epoch_acc\n",
    "\n",
    "def val_one_epoch(model, dataloader, criterion, device):\n",
    "    model.eval()\n",
    "    running_loss = 0.0\n",
    "    correct = 0\n",
    "\n",
    "    with torch.no_grad():\n",
    "        for inputs, labels in dataloader:\n",
    "            inputs, labels = inputs.to(device), labels.to(device)\n",
    "            outputs = model(inputs)\n",
    "            loss = criterion(outputs, labels)\n",
    "\n",
    "            running_loss += loss.item()\n",
    "            preds = outputs.argmax(dim=1)\n",
    "            correct += (preds == labels).sum().item()\n",
    "\n",
    "    epoch_loss = running_loss / len(dataloader)\n",
    "    epoch_acc = correct / len(dataloader.dataset)\n",
    "    return epoch_loss, epoch_acc\n",
    "\n",
    "def train_model(\n",
    "    model,\n",
    "    train_loader,\n",
    "    val_loader,\n",
    "    criterion,\n",
    "    device,\n",
    "    num_epochs=20,\n",
    "    lr=1e-3,\n",
    "    weight_decay=1e-5,  \n",
    "    patience=3,         \n",
    "    save_path=\"best_model.pt\"):\n",
    "    \n",
    "    optimizer = torch.optim.Adam(model.parameters(), lr=lr, weight_decay=weight_decay)\n",
    "    early_stopper = EarlyStopping(patience=patience, delta=0.0)\n",
    "\n",
    "    train_losses, val_losses = [], []\n",
    "    train_accs, val_accs = [], []\n",
    "\n",
    "    best_val_loss = float('inf')\n",
    "\n",
    "    for epoch in range(1, num_epochs + 1):\n",
    "        tr_loss, tr_acc = train_one_epoch(model, train_loader, criterion, optimizer, device)\n",
    "        train_losses.append(tr_loss)\n",
    "        train_accs.append(tr_acc)\n",
    "\n",
    "        val_loss, val_acc = val_one_epoch(model, val_loader, criterion, device)\n",
    "        val_losses.append(val_loss)\n",
    "        val_accs.append(val_acc)\n",
    "\n",
    "        if val_loss < best_val_loss:\n",
    "            best_val_loss = val_loss\n",
    "            torch.save(model.state_dict(), save_path)\n",
    "\n",
    "        early_stopper(val_loss)\n",
    "        if early_stopper.early_stop:\n",
    "            print(f\"Early stopping triggered at epoch {epoch}\")\n",
    "            break\n",
    "\n",
    "        print(\n",
    "            f\"Epoch [{epoch}/{num_epochs}] \"\n",
    "            f\"Train Loss: {tr_loss:.4f} | Train Acc: {tr_acc:.4f} | \"\n",
    "            f\"Val Loss: {val_loss:.4f} | Val Acc: {val_acc:.4f}\"\n",
    "        )\n",
    "\n",
    "    return train_losses, val_losses, train_accs, val_accs\n",
    "\n",
    "def plot_training_curves(train_losses, val_losses, train_accs, val_accs):\n",
    "    epochs = range(1, len(train_losses) + 1)\n",
    "    fig, axes = plt.subplots(1, 2, figsize=(12, 4))\n",
    "\n",
    "    axes[0].plot(epochs, train_losses, label='Train Loss', marker='o')\n",
    "    axes[0].plot(epochs, val_losses, label='Val Loss', marker='x')\n",
    "    axes[0].set_title('Training & Validation Loss')\n",
    "    axes[0].set_xlabel('Epoch')\n",
    "    axes[0].set_ylabel('Loss')\n",
    "    axes[0].legend()\n",
    "\n",
    "    axes[1].plot(epochs, train_accs, label='Train Accuracy', marker='o')\n",
    "    axes[1].plot(epochs, val_accs, label='Val Accuracy', marker='x')\n",
    "    axes[1].set_title('Training & Validation Accuracy')\n",
    "    axes[1].set_xlabel('Epoch')\n",
    "    axes[1].set_ylabel('Accuracy')\n",
    "    axes[1].legend()\n",
    "\n",
    "    plt.tight_layout()\n",
    "    plt.show()\n",
    "\n",
    "def load_best_model(model, path, device):\n",
    "    model.load_state_dict(torch.load(path, map_location=device))\n",
    "    model.to(device)\n",
    "    model.eval()\n",
    "\n",
    "def evaluate_test_with_probs(model, dataloader, criterion, device):\n",
    "\n",
    "    model.eval()\n",
    "    test_loss = 0.0\n",
    "    correct = 0\n",
    "    all_labels = []\n",
    "    all_probs = [] \n",
    "\n",
    "    with torch.no_grad():\n",
    "        for inputs, labels in dataloader:\n",
    "            inputs, labels = inputs.to(device), labels.to(device)\n",
    "            outputs = model(inputs)\n",
    "            \n",
    "            loss = criterion(outputs, labels)\n",
    "            test_loss += loss.item()\n",
    "            \n",
    "            probs = torch.softmax(outputs, dim=1)\n",
    "            all_probs.append(probs.cpu().numpy())\n",
    "            \n",
    "            preds = outputs.argmax(dim=1)\n",
    "            correct += (preds == labels).sum().item()\n",
    "            all_labels.extend(labels.cpu().numpy())\n",
    "    \n",
    "    all_probs = np.concatenate(all_probs, axis=0)\n",
    "    avg_loss = test_loss / len(dataloader)\n",
    "    accuracy = correct / len(dataloader.dataset)\n",
    "    return avg_loss, accuracy, np.array(all_labels), all_probs\n",
    "\n",
    "def compute_metrics(labels, preds, average='macro'):\n",
    "    precision, recall, f1, _ = precision_recall_fscore_support(labels, preds, average=average)\n",
    "    return precision, recall, f1\n",
    "\n",
    "def plot_multiclass_roc(all_labels, all_probs, n_classes=4):\n",
    "\n",
    "    y_true = label_binarize(all_labels, classes=list(range(n_classes)))\n",
    "    \n",
    "    fpr = dict()\n",
    "    tpr = dict()\n",
    "    roc_auc = dict()\n",
    "    \n",
    "    for i in range(n_classes):\n",
    "        fpr[i], tpr[i], _ = roc_curve(y_true[:, i], all_probs[:, i])\n",
    "        roc_auc[i] = auc(fpr[i], tpr[i])\n",
    "    \n",
    "    plt.figure(figsize=(8, 6))\n",
    "    for i in range(n_classes):\n",
    "        plt.plot(fpr[i], tpr[i], lw=2,\n",
    "                 label=f'Class {i} (AUC = {roc_auc[i]:.2f})')\n",
    "    \n",
    "    plt.plot([0, 1], [0, 1], 'k--', lw=2, label='Random Chance')\n",
    "    plt.xlim([0.0, 1.0])\n",
    "    plt.ylim([0.0, 1.05])\n",
    "    plt.xlabel('False Positive Rate', fontsize=12)\n",
    "    plt.ylabel('True Positive Rate', fontsize=12)\n",
    "    plt.title('Multi-class ROC Curve', fontsize=14)\n",
    "    plt.legend(loc=\"lower right\", fontsize=10)\n",
    "    plt.grid(True)\n",
    "    plt.show()"
   ]
  },
  {
   "cell_type": "code",
   "execution_count": 47,
   "metadata": {},
   "outputs": [],
   "source": [
    "criterion = nn.CrossEntropyLoss()\n",
    "\n",
    "model = Transformer(\n",
    "    embedding_matrix=embedding_matrix,\n",
    "    num_classes=4,\n",
    "    num_heads=4,\n",
    "    num_layers=2,\n",
    "    max_len=max_len_comb,\n",
    "    dropout=0.4\n",
    "    ).to(device)"
   ]
  },
  {
   "cell_type": "code",
   "execution_count": 48,
   "metadata": {},
   "outputs": [
    {
     "name": "stdout",
     "output_type": "stream",
     "text": [
      "Epoch [1/30] Train Loss: 0.4934 | Train Acc: 0.8413 | Val Loss: 0.3360 | Val Acc: 0.8916\n",
      "Epoch [2/30] Train Loss: 0.3368 | Train Acc: 0.8877 | Val Loss: 0.3201 | Val Acc: 0.8968\n",
      "Epoch [3/30] Train Loss: 0.3176 | Train Acc: 0.8943 | Val Loss: 0.3124 | Val Acc: 0.8996\n",
      "Epoch [4/30] Train Loss: 0.3075 | Train Acc: 0.8979 | Val Loss: 0.3011 | Val Acc: 0.9038\n",
      "Epoch [5/30] Train Loss: 0.2995 | Train Acc: 0.8999 | Val Loss: 0.3010 | Val Acc: 0.9032\n",
      "Epoch [6/30] Train Loss: 0.2917 | Train Acc: 0.9017 | Val Loss: 0.2945 | Val Acc: 0.9068\n",
      "Epoch [7/30] Train Loss: 0.2854 | Train Acc: 0.9034 | Val Loss: 0.2853 | Val Acc: 0.9086\n",
      "Epoch [8/30] Train Loss: 0.2783 | Train Acc: 0.9061 | Val Loss: 0.2779 | Val Acc: 0.9105\n",
      "Epoch [9/30] Train Loss: 0.2718 | Train Acc: 0.9080 | Val Loss: 0.2749 | Val Acc: 0.9111\n",
      "Epoch [10/30] Train Loss: 0.2656 | Train Acc: 0.9097 | Val Loss: 0.2774 | Val Acc: 0.9084\n",
      "Epoch [11/30] Train Loss: 0.2607 | Train Acc: 0.9121 | Val Loss: 0.2659 | Val Acc: 0.9120\n",
      "Epoch [12/30] Train Loss: 0.2560 | Train Acc: 0.9132 | Val Loss: 0.2685 | Val Acc: 0.9134\n",
      "Epoch [13/30] Train Loss: 0.2514 | Train Acc: 0.9148 | Val Loss: 0.2612 | Val Acc: 0.9139\n",
      "Epoch [14/30] Train Loss: 0.2462 | Train Acc: 0.9160 | Val Loss: 0.2593 | Val Acc: 0.9142\n",
      "Epoch [15/30] Train Loss: 0.2417 | Train Acc: 0.9175 | Val Loss: 0.2594 | Val Acc: 0.9143\n",
      "Epoch [16/30] Train Loss: 0.2386 | Train Acc: 0.9187 | Val Loss: 0.2549 | Val Acc: 0.9169\n",
      "Epoch [17/30] Train Loss: 0.2334 | Train Acc: 0.9204 | Val Loss: 0.2555 | Val Acc: 0.9154\n",
      "Epoch [18/30] Train Loss: 0.2297 | Train Acc: 0.9218 | Val Loss: 0.2518 | Val Acc: 0.9183\n",
      "Epoch [19/30] Train Loss: 0.2274 | Train Acc: 0.9229 | Val Loss: 0.2520 | Val Acc: 0.9185\n",
      "Early stopping triggered at epoch 20\n"
     ]
    }
   ],
   "source": [
    "train_losses, val_losses, train_accs, val_accs = train_model(\n",
    "        model=model,\n",
    "        train_loader=train_loader,\n",
    "        val_loader=val_loader,\n",
    "        criterion=criterion,\n",
    "        device=device,\n",
    "        num_epochs=30,       \n",
    "        lr=1e-5,             \n",
    "        weight_decay=1e-5,   \n",
    "        patience=2,          \n",
    "        save_path=\"best_model.pt\"\n",
    "    )"
   ]
  },
  {
   "cell_type": "code",
   "execution_count": 50,
   "metadata": {},
   "outputs": [],
   "source": [
    "df_test = pd.read_csv(\"ag_news_csv/test.csv\", header=None ,names=[\"Class\", \"Title\", \"Description\"])\n",
    "df_test = preprocess_t(df_test, text_column='Description', stop_words=True)\n",
    "df_test = preprocess_t(df_test, text_column='Title', stop_words=True, title=True)\n",
    "\n",
    "test_dataset = News_Data(\n",
    "    df_test['Title_processed'],\n",
    "    df_test['Description_processed'],\n",
    "    df_test['Class'],\n",
    "    vocab_dict,\n",
    "    max_len_comb\n",
    ")\n",
    "\n",
    "test_loader = DataLoader(test_dataset, batch_size=batch_size)"
   ]
  },
  {
   "cell_type": "code",
   "execution_count": 56,
   "metadata": {},
   "outputs": [
    {
     "name": "stdout",
     "output_type": "stream",
     "text": [
      "Test Loss: 0.2724, Test Accuracy: 0.9114\n"
     ]
    }
   ],
   "source": [
    "test_loss, test_accuracy, all_labels, all_probs  = evaluate_test_with_probs(model, test_loader, criterion, device)\n",
    "print(f\"Test Loss: {test_loss:.4f}, Test Accuracy: {test_acc:.4f}\")"
   ]
  },
  {
   "cell_type": "markdown",
   "metadata": {},
   "source": [
    "2. Discuss how the optimization techniques helped to improve the performance of the model."
   ]
  },
  {
   "cell_type": "markdown",
   "metadata": {},
   "source": [
    "Observing the training epochs from the improved model which contains optimizations such as dropouts, weight decay and early stopping which hugely contribute in avoiding the overfitting of the model thus converging the train and validation accuracies and losses perfectly. We visualize the plots below which clearly depicts on how well the model performed compared to our base model.\n",
    "\n",
    "**Dropout:**  By randomly zeroing out a subset of neuron activations during training, dropout forced the model to learn more robust representations that don’t rely on a few dominant features. This reduced overfitting and improved generalization on unseen data.\n",
    "\n",
    "**Weight decay:** L2 regularization penalized large weights by adding a penalty term to the loss function, which encouraged the model to distribute importance across many features rather than over-relying on a few. This simplicity helped reduce variance and overfitting, leading to more stable and generalizable performance.\n",
    "\n",
    "**Early Stopping:** Early stopping monitored validation loss and halts training when the model stops improving. This prevented the model from training too long on the training data, reducing the risk of overfitting and ensuring that the saved model corresponds to the best generalization performance.\n",
    "\n",
    "Together, these techniques helped strike a balance between model complexity and generalization, resulting in improved performance on both validation and test sets."
   ]
  },
  {
   "cell_type": "markdown",
   "metadata": {},
   "source": [
    "3. Save the weights of the model that provides the best results. Check the saving and loading of models (Pytorch)."
   ]
  },
  {
   "cell_type": "code",
   "execution_count": 57,
   "metadata": {},
   "outputs": [],
   "source": [
    "load_best_model(model, \"best_model.pt\", device)"
   ]
  },
  {
   "cell_type": "markdown",
   "metadata": {},
   "source": [
    "4. Discuss the results and provide the following graphs:\n",
    "\n",
    "   a. Training accuracy, training loss, validation accuracy, validation loss, testing accuracy, and testing loss. Provide your short analysis."
   ]
  },
  {
   "cell_type": "code",
   "execution_count": 58,
   "metadata": {
    "scrolled": true
   },
   "outputs": [
    {
     "data": {
      "image/png": "[encoded data removed]",
      "text/plain": [
       "<Figure size 864x288 with 2 Axes>"
      ]
     },
     "metadata": {
      "needs_background": "light"
     },
     "output_type": "display_data"
    }
   ],
   "source": [
    "plot_training_curves(train_losses, val_losses, train_accs, val_accs)"
   ]
  },
  {
   "cell_type": "markdown",
   "metadata": {},
   "source": [
    "From the above plots, training loss decreases gradually with epochs, suggesting good learning. Validation loss decreases as well, which means that the model is generalizing pretty well. While training accuracy is increasing steadily towards a high point, validation accuracy also rises similarly but slightly less—this slim difference suggests some overfitting but not excess. Generally, the model shows improved performance on both training and validation sets, suggesting decent generalization."
   ]
  },
  {
   "cell_type": "markdown",
   "metadata": {},
   "source": [
    "   d. Calculate and report other evaluation metrics such as Precision, recall and F1 score. You can use sklearn.metrics.precision_recall_fscore_support.\n"
   ]
  },
  {
   "cell_type": "markdown",
   "metadata": {},
   "source": [
    "   e. Plot the ROC curve."
   ]
  },
  {
   "cell_type": "code",
   "execution_count": 59,
   "metadata": {},
   "outputs": [
    {
     "name": "stdout",
     "output_type": "stream",
     "text": [
      "Precision: 0.9120, Recall: 0.9114, F1: 0.9113\n"
     ]
    }
   ],
   "source": [
    "precision, recall, f1 = compute_metrics(all_labels, all_preds, average='macro')\n",
    "print(f\"Precision: {precision:.4f}, Recall: {recall:.4f}, F1: {f1:.4f}\")"
   ]
  },
  {
   "cell_type": "code",
   "execution_count": 62,
   "metadata": {},
   "outputs": [
    {
     "data": {
      "image/png": "[encoded data removed]",
      "text/plain": [
       "<Figure size 576x432 with 1 Axes>"
      ]
     },
     "metadata": {
      "needs_background": "light"
     },
     "output_type": "display_data"
    }
   ],
   "source": [
    "plot_multiclass_roc(all_labels, all_probs, n_classes=4)"
   ]
  },
  {
   "cell_type": "markdown",
   "metadata": {},
   "source": [
    "   f. [Optional] Use TensorBoard (or a similar tool, e.g. Wandb) to log the training and validation loss and accuracy over epochs, generate the charts, and attach the SVG images of the charts."
   ]
  },
  {
   "cell_type": "markdown",
   "metadata": {},
   "source": [
    "5. References. Include details on all the resources used to complete this part, e.g. links to datasets, research papers or articles, code examples or tutorials you referred."
   ]
  },
  {
   "cell_type": "markdown",
   "metadata": {},
   "source": [
    "**References:**\n",
    "\n",
    "- Vaswani, A., Shazeer, N., Parmar, N., Uszkoreit, J., Jones, L., Gomez, A. N., Kaiser, Ł., & Polosukhin, I. (2017). *Attention is All You Need.* Advances in Neural Information Processing Systems (NeurIPS). [Link](https://arxiv.org/abs/1706.03762)\n",
    "\n",
    "- Devlin, J., Chang, M. W., Lee, K., & Toutanova, K. (2018). *BERT: Pre-training of Deep Bidirectional Transformers for Language Understanding.* arXiv preprint arXiv:1810.04805. [Link](https://arxiv.org/abs/1810.04805)\n",
    "\n",
    "-  Prechelt, L. (1998). *Early Stopping - But When?* In Neural Networks: Tricks of the Trade (pp. 55-69). Springer. [Link](https://link.springer.com/chapter/10.1007/3-540-49430-8_3)\n",
    "\n",
    "- Ng, A. (2004). *Feature Selection, L1 vs. L2 Regularization, and Rotational Invariance.* In Proceedings of the Twenty-first International Conference on Machine Learning (ICML '04). [Link](http://www.cs.cmu.edu/~aaba/10701_sp09/lectures/regularization.pdf)\n",
    "\n",
    "- Bishop, C. M. (2006). *Pattern Recognition and Machine Learning.* Springer. [Link](https://www.springer.com/gp/book/9780387310732)\n",
    "\n",
    "- Dataset: [Link](https://drive.google.com/drive/u/0/folders/0Bz8a_Dbh9Qhbfll6bVpmNUtUcFdjYmF2SEpmZUZUcVNiMUw1TWN6RDV3a0JHT3kxLVhVR2M?resourcekey=0-TLwzfR2O-D2aPitmn5o9VQ)\n"
   ]
  },
  {
   "cell_type": "markdown",
   "metadata": {},
   "source": [
    "6. If you are working in a team, provide a contribution summary."
   ]
  },
  {
   "cell_type": "markdown",
   "metadata": {},
   "source": [
    "| Team Member | Step# | Contribution (%) |\n",
    "|---|---|---|\n",
    "| Shreyas Bellary Manjunath  | 1,2,3,4 | 50  |\n",
    "| Ruthvik Vasantha Kumar  | 1,2,3,4  | 50 |\n",
    "|   | **Total** | 100  |"
   ]
  }
 ],
 "metadata": {
  "kernelspec": {
   "display_name": "venv_core",
   "language": "python",
   "name": "venv_core"
  },
  "language_info": {
   "codemirror_mode": {
    "name": "ipython",
    "version": 3
   },
   "file_extension": ".py",
   "mimetype": "text/x-python",
   "name": "python",
   "nbconvert_exporter": "python",
   "pygments_lexer": "ipython3",
   "version": "3.9.6"
  }
 },
 "nbformat": 4,
 "nbformat_minor": 4
}
